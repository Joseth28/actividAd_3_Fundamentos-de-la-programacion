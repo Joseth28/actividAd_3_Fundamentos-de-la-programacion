{
  "nbformat": 4,
  "nbformat_minor": 0,
  "metadata": {
    "colab": {
      "provenance": [],
      "authorship_tag": "ABX9TyM36gTA/CMGr58t3GtWCoOS",
      "include_colab_link": true
    },
    "kernelspec": {
      "name": "python3",
      "display_name": "Python 3"
    },
    "language_info": {
      "name": "python"
    }
  },
  "cells": [
    {
      "cell_type": "markdown",
      "metadata": {
        "id": "view-in-github",
        "colab_type": "text"
      },
      "source": [
        "<a href=\"https://colab.research.google.com/github/Joseth28/actividad_3_Fundamentos-de-la-programacion/blob/main/actividad_3_000549061.ipynb\" target=\"_parent\"><img src=\"https://colab.research.google.com/assets/colab-badge.svg\" alt=\"Open In Colab\"/></a>"
      ]
    },
    {
      "cell_type": "markdown",
      "source": [
        "## ciclos y condicionales\n",
        "\n",
        " *Fecha:* 22 de marzo de 2024\n",
        "\n",
        " *Presentado por:* joseth Rodriguez Cardales\n",
        "\n",
        " *Email:* joseth.rodriguez@upb.edu.co"
      ],
      "metadata": {
        "id": "G84KMBH_bmFW"
      }
    },
    {
      "cell_type": "code",
      "source": [
        "import math\n",
        "n=int(input(\"ingrese la frecuencia de la señal: \"))\n",
        "o, u , PI, e= 300, 1000, 3.1416, 2.71828\n",
        "\n",
        "porcent = 0\n",
        "x=0\n",
        "\n",
        "for i in range(n):\n",
        "  x += 1\n",
        "  fdp = (1 / (n * math.sqrt(2 * PI))) * e ** (-1/2 * ((x - u) / n) ** 2)\n",
        "  porcent += fdp\n",
        "  porcent_total = porcent\n",
        "print(f\"la densidad de probabilidad de filtracion de señal es: {porcent_total}\")\n",
        "\n",
        "if porcent_total > 0.30:\n",
        "  print(\"la señal si pasa\")\n",
        "else:\n",
        "  print(\"se encuentra bloqueada\")"
      ],
      "metadata": {
        "id": "zmEcUwNT4UnM",
        "outputId": "90f7e1c8-0386-4fbf-c592-53b7422ac822",
        "colab": {
          "base_uri": "https://localhost:8080/"
        }
      },
      "execution_count": 36,
      "outputs": [
        {
          "output_type": "stream",
          "name": "stdout",
          "text": [
            "ingrese la frecuencia de la señal: 814\n",
            "la densidad de probabilidad de filtracion de señal es: 0.3001220652066055\n",
            "la señal si pasa\n"
          ]
        }
      ]
    }
  ]
}